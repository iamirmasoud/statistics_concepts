{
 "cells": [
  {
   "cell_type": "markdown",
   "metadata": {},
   "source": [
    "# Monte Carlo Coding Video: \n",
    "# https://www.youtube.com/watch?v=yA6_V-v3ODo"
   ]
  },
  {
   "cell_type": "code",
   "execution_count": 1,
   "metadata": {},
   "outputs": [],
   "source": [
    "import numpy as np\n",
    "import matplotlib.pyplot as plt\n",
    "from time import time"
   ]
  },
  {
   "cell_type": "code",
   "execution_count": 2,
   "metadata": {},
   "outputs": [],
   "source": [
    "def get_calories_burned(lower_temp, upper_temp, avg_tol, sd_tol, avg_calories_burned):\n",
    "    # get the temp\n",
    "    temp = np.random.uniform(lower_temp, upper_temp)\n",
    "\n",
    "    # get the tolerance\n",
    "    tol = np.random.normal(avg_tol, sd_tol)\n",
    "\n",
    "    # if the temp is higher than our tolerance, then run\n",
    "    if temp > tol:\n",
    "        cals = np.random.exponential(avg_calories_burned)\n",
    "    else:\n",
    "        cals = 0\n",
    "\n",
    "    return cals"
   ]
  },
  {
   "cell_type": "code",
   "execution_count": 6,
   "metadata": {},
   "outputs": [
    {
     "name": "stdout",
     "output_type": "stream",
     "text": [
      "5.638841390609741\n"
     ]
    }
   ],
   "source": [
    "num_days = 1000000\n",
    "daily_calories = []\n",
    "\n",
    "start = time()\n",
    "for _ in range(num_days):\n",
    "    cals = get_calories_burned(40, 60, 55, 5, 200)\n",
    "    daily_calories.append(cals)\n",
    "end = time()\n",
    "print(end - start)"
   ]
  },
  {
   "cell_type": "code",
   "execution_count": 7,
   "metadata": {},
   "outputs": [
    {
     "data": {
      "text/plain": [
       "Text(0.5, 1.0, '53.96524396163371')"
      ]
     },
     "execution_count": 7,
     "metadata": {},
     "output_type": "execute_result"
    },
    {
     "data": {
      "image/png": "[encoded data removed]",
      "text/plain": [
       "<Figure size 432x288 with 1 Axes>"
      ]
     },
     "metadata": {
      "needs_background": "light"
     },
     "output_type": "display_data"
    }
   ],
   "source": [
    "plt.hist(daily_calories)\n",
    "plt.title(np.mean(daily_calories))"
   ]
  },
  {
   "cell_type": "code",
   "execution_count": 8,
   "metadata": {},
   "outputs": [
    {
     "name": "stdout",
     "output_type": "stream",
     "text": [
      "0.729506\n"
     ]
    }
   ],
   "source": [
    "print(len([i for i in daily_calories if i == 0]) / num_days)"
   ]
  },
  {
   "cell_type": "markdown",
   "metadata": {},
   "source": [
    "# Efficient Method : Vectorization"
   ]
  },
  {
   "cell_type": "code",
   "execution_count": 9,
   "metadata": {},
   "outputs": [
    {
     "name": "stdout",
     "output_type": "stream",
     "text": [
      "0.09615325927734375\n"
     ]
    }
   ],
   "source": [
    "start = time()\n",
    "\n",
    "# get all temps at once\n",
    "temps = np.random.uniform(40, 60, num_days)\n",
    "\n",
    "# get all the tolerances at once\n",
    "tols = np.random.normal(55, 5, num_days)\n",
    "\n",
    "# get all the calories at once\n",
    "daily_calories = np.random.exponential(200, num_days)\n",
    "\n",
    "# if temp is less than tol, then you didnt run\n",
    "daily_calories[temps < tols] = 0\n",
    "\n",
    "end = time()\n",
    "print(end - start)"
   ]
  },
  {
   "cell_type": "code",
   "execution_count": 67,
   "metadata": {},
   "outputs": [
    {
     "data": {
      "text/plain": [
       "Text(0.5, 1.0, '54.275049753539044')"
      ]
     },
     "execution_count": 67,
     "metadata": {},
     "output_type": "execute_result"
    },
    {
     "data": {
      "image/png": "[encoded data removed]",
      "text/plain": [
       "<Figure size 432x288 with 1 Axes>"
      ]
     },
     "metadata": {
      "needs_background": "light"
     },
     "output_type": "display_data"
    }
   ],
   "source": [
    "plt.hist(daily_calories)\n",
    "plt.title(np.mean(daily_calories))"
   ]
  },
  {
   "cell_type": "code",
   "execution_count": 68,
   "metadata": {},
   "outputs": [
    {
     "name": "stdout",
     "output_type": "stream",
     "text": [
      "0.729439\n"
     ]
    }
   ],
   "source": [
    "print(len([i for i in daily_calories if i == 0]) / num_days)"
   ]
  },
  {
   "cell_type": "code",
   "execution_count": null,
   "metadata": {},
   "outputs": [],
   "source": []
  }
 ],
 "metadata": {
  "kernelspec": {
   "display_name": "Python 3 (ipykernel)",
   "language": "python",
   "name": "python3"
  },
  "language_info": {
   "codemirror_mode": {
    "name": "ipython",
    "version": 3
   },
   "file_extension": ".py",
   "mimetype": "text/x-python",
   "name": "python",
   "nbconvert_exporter": "python",
   "pygments_lexer": "ipython3",
   "version": "3.7.10"
  }
 },
 "nbformat": 4,
 "nbformat_minor": 4
}
