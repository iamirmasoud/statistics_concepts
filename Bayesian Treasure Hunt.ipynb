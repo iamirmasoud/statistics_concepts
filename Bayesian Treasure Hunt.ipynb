{
 "cells": [
  {
   "cell_type": "code",
   "execution_count": 1,
   "metadata": {},
   "outputs": [],
   "source": [
    "import numpy as np\n",
    "import matplotlib.pyplot as plt"
   ]
  },
  {
   "cell_type": "code",
   "execution_count": 2,
   "metadata": {},
   "outputs": [],
   "source": [
    "prior_probs = np.array([[0.33, 0.3], [0.2, 0.17]])"
   ]
  },
  {
   "cell_type": "code",
   "execution_count": 3,
   "metadata": {},
   "outputs": [
    {
     "data": {
      "text/plain": [
       "Text(0.5, 1.0, 'Prior Probabilities')"
      ]
     },
     "execution_count": 3,
     "metadata": {},
     "output_type": "execute_result"
    },
    {
     "data": {
      "image/png": "[encoded data removed]",
      "text/plain": [
       "<Figure size 432x288 with 2 Axes>"
      ]
     },
     "metadata": {
      "needs_background": "light"
     },
     "output_type": "display_data"
    }
   ],
   "source": [
    "plt.imshow(prior_probs, cmap=\"gray\")\n",
    "plt.colorbar()\n",
    "\n",
    "for i in range(2):\n",
    "    for j in range(2):\n",
    "        plt.annotate(\n",
    "            prior_probs[i, j],\n",
    "            (j, i),\n",
    "            color=\"red\",\n",
    "            fontsize=20,\n",
    "            fontweight=\"bold\",\n",
    "            ha=\"center\",\n",
    "            va=\"center\",\n",
    "        )\n",
    "\n",
    "plt.title(\"Prior Probabilities\", fontsize=20)"
   ]
  },
  {
   "cell_type": "code",
   "execution_count": 4,
   "metadata": {},
   "outputs": [],
   "source": [
    "robot_likelihoods = np.array([[0.5, 0.2], [0.5, 0.75]])"
   ]
  },
  {
   "cell_type": "code",
   "execution_count": 5,
   "metadata": {},
   "outputs": [
    {
     "data": {
      "text/plain": [
       "Text(0.5, 1.0, 'Robot Beep Probabilities')"
      ]
     },
     "execution_count": 5,
     "metadata": {},
     "output_type": "execute_result"
    },
    {
     "data": {
      "image/png": "[encoded data removed]",
      "text/plain": [
       "<Figure size 432x288 with 2 Axes>"
      ]
     },
     "metadata": {
      "needs_background": "light"
     },
     "output_type": "display_data"
    }
   ],
   "source": [
    "plt.imshow(robot_likelihoods, cmap=\"gray\")\n",
    "plt.colorbar()\n",
    "\n",
    "for i in range(2):\n",
    "    for j in range(2):\n",
    "        plt.annotate(\n",
    "            robot_likelihoods[i, j],\n",
    "            (j, i),\n",
    "            color=\"red\",\n",
    "            fontsize=20,\n",
    "            fontweight=\"bold\",\n",
    "            ha=\"center\",\n",
    "            va=\"center\",\n",
    "        )\n",
    "\n",
    "plt.title(\"Robot Beep Probabilities\", fontsize=20)"
   ]
  },
  {
   "cell_type": "markdown",
   "metadata": {},
   "source": [
    "# Posterior Probability\n",
    "# $P(S_i|\\text{BEEP}) \\propto P(\\text{BEEP}|S_i) \\times P(S_i)$\n",
    "# $P(S_i|\\text{NO BEEP}) \\propto P(\\text{NO BEEP}|S_i) \\times P(S_i)$\n",
    "# ------------------------------------------------------------------------"
   ]
  },
  {
   "cell_type": "markdown",
   "metadata": {},
   "source": [
    "# So, if robot beeps\n",
    "## $P(S_0|\\text{BEEP}) \\propto P(\\text{BEEP}|S_0)P(S_0) = 0.5 \\times 0.33 = 0.165$\n",
    "## $P(S_1|\\text{BEEP}) \\propto P(\\text{BEEP}|S_1)P(S_1) = 0.2 \\times 0.3 = 0.06$\n",
    "## $P(S_2|\\text{BEEP}) \\propto P(\\text{BEEP}|S_2)P(S_2) = 0.5 \\times 0.2 = 0.1$\n",
    "## $P(S_3|\\text{BEEP}) \\propto P(\\text{BEEP}|S_3)P(S_3) = 0.75 \\times 0.17 = 0.128$\n",
    "# Dig at Space 0\n",
    "# ------------------------------------------------------------------------"
   ]
  },
  {
   "cell_type": "markdown",
   "metadata": {},
   "source": [
    "# So, if robot does not beep\n",
    "## $P(S_0|\\text{NO BEEP}) \\propto P(\\text{NO BEEP}|S_0)P(S_0) = 0.5 \\times 0.33 = 0.165$\n",
    "## $P(S_1|\\text{NO BEEP}) \\propto P(\\text{NO BEEP}|S_1)P(S_1) = 0.8 \\times 0.3 = 0.24$\n",
    "## $P(S_2|\\text{NO BEEP}) \\propto P(\\text{NO BEEP}|S_2)P(S_2) = 0.5 \\times 0.2 = 0.1$\n",
    "## $P(S_3|\\text{NO BEEP}) \\propto P(\\text{NO BEEP}|S_3)P(S_3) = 0.25 \\times 0.17 = 0.043$\n",
    "# Dig at Space 1\n",
    "# ------------------------------------------------------------------------"
   ]
  },
  {
   "cell_type": "code",
   "execution_count": 7,
   "metadata": {},
   "outputs": [],
   "source": [
    "def generate_treasure(prior_probs):\n",
    "    u = np.random.random()\n",
    "    cumulative_probs = prior_probs.flatten().cumsum()\n",
    "    loc = np.where(u < cumulative_probs)[0][0]\n",
    "    return loc"
   ]
  },
  {
   "cell_type": "code",
   "execution_count": 8,
   "metadata": {},
   "outputs": [],
   "source": [
    "def get_robot_beep(loc, robot_likelihoods):\n",
    "    i, j = loc % 2, loc // 2\n",
    "    u = np.random.random()\n",
    "    return u < robot_likelihoods[j, i]"
   ]
  },
  {
   "cell_type": "code",
   "execution_count": 9,
   "metadata": {},
   "outputs": [],
   "source": [
    "def get_posterior_probs(prior_probs, robot_likelihoods, robot_beep):\n",
    "\n",
    "    likelihoods = robot_likelihoods if robot_beep else (1 - robot_likelihoods)\n",
    "    posterior_probs = prior_probs * likelihoods\n",
    "\n",
    "    return posterior_probs"
   ]
  },
  {
   "cell_type": "code",
   "execution_count": 10,
   "metadata": {},
   "outputs": [],
   "source": [
    "def show_probs(robot_beep, probs):\n",
    "    plt.imshow(probs, cmap=\"gray\")\n",
    "    plt.colorbar()\n",
    "\n",
    "    for i in range(2):\n",
    "        for j in range(2):\n",
    "            plt.annotate(\n",
    "                round(probs[i, j], 3),\n",
    "                (j, i),\n",
    "                color=\"red\",\n",
    "                fontsize=20,\n",
    "                fontweight=\"bold\",\n",
    "                ha=\"center\",\n",
    "                va=\"center\",\n",
    "            )\n",
    "\n",
    "    plt.title(\"Posterior Probabilities\\nRobot Beep = %s\" % robot_beep, fontsize=20)\n",
    "    plt.show()"
   ]
  },
  {
   "cell_type": "code",
   "execution_count": 12,
   "metadata": {},
   "outputs": [
    {
     "data": {
      "image/png": "[encoded data removed]",
      "text/plain": [
       "<Figure size 432x288 with 2 Axes>"
      ]
     },
     "metadata": {
      "needs_background": "light"
     },
     "output_type": "display_data"
    }
   ],
   "source": [
    "loc = generate_treasure(prior_probs)\n",
    "robot_beep = get_robot_beep(loc, robot_likelihoods)\n",
    "posterior_probs = get_posterior_probs(prior_probs, robot_likelihoods, robot_beep)\n",
    "show_probs(robot_beep, posterior_probs)"
   ]
  },
  {
   "cell_type": "code",
   "execution_count": 19,
   "metadata": {},
   "outputs": [],
   "source": [
    "trials = 100000\n",
    "\n",
    "actual_locs = []\n",
    "prior_preds = []\n",
    "robot_preds = []\n",
    "posterior_preds = []\n",
    "\n",
    "for _ in range(trials):\n",
    "    loc = generate_treasure(prior_probs)\n",
    "    robot_beep = get_robot_beep(loc, robot_likelihoods)\n",
    "    posterior_probs = get_posterior_probs(prior_probs, robot_likelihoods, robot_beep)\n",
    "    actual_locs.append(loc)\n",
    "    robot_preds.append(3 if robot_beep else 1)\n",
    "    posterior_preds.append(np.argmax(posterior_probs.flatten()))\n",
    "    prior_preds.append(0)"
   ]
  },
  {
   "cell_type": "code",
   "execution_count": 20,
   "metadata": {},
   "outputs": [],
   "source": [
    "prior_acc = np.mean(np.array(prior_preds) == np.array(actual_locs))\n",
    "robot_acc = np.mean(np.array(robot_preds) == np.array(actual_locs))\n",
    "posterior_acc = np.mean(np.array(posterior_preds) == np.array(actual_locs))"
   ]
  },
  {
   "cell_type": "code",
   "execution_count": 18,
   "metadata": {},
   "outputs": [
    {
     "name": "stdout",
     "output_type": "stream",
     "text": [
      "Prior Accuracy: 0.33031\n",
      "Robot Accuracy: 0.36753\n",
      "Posterior Accuracy: 0.40453\n"
     ]
    }
   ],
   "source": [
    "print(\"Prior Accuracy: %s\" % prior_acc)\n",
    "print(\"Robot Accuracy: %s\" % robot_acc)\n",
    "print(\"Posterior Accuracy: %s\" % posterior_acc)"
   ]
  },
  {
   "cell_type": "code",
   "execution_count": null,
   "metadata": {},
   "outputs": [],
   "source": []
  }
 ],
 "metadata": {
  "kernelspec": {
   "display_name": "Python 3 (ipykernel)",
   "language": "python",
   "name": "python3"
  },
  "language_info": {
   "codemirror_mode": {
    "name": "ipython",
    "version": 3
   },
   "file_extension": ".py",
   "mimetype": "text/x-python",
   "name": "python",
   "nbconvert_exporter": "python",
   "pygments_lexer": "ipython3",
   "version": "3.7.10"
  }
 },
 "nbformat": 4,
 "nbformat_minor": 4
}
