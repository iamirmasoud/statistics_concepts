{
 "cells": [
  {
   "cell_type": "code",
   "execution_count": 2,
   "metadata": {},
   "outputs": [],
   "source": [
    "import numpy as np\n",
    "import pandas as pd\n",
    "import matplotlib.pyplot as plt\n",
    "\n",
    "%matplotlib inline\n",
    "import seaborn as sns\n",
    "\n",
    "np.random.seed(42)"
   ]
  },
  {
   "cell_type": "code",
   "execution_count": 9,
   "metadata": {},
   "outputs": [
    {
     "data": {
      "text/html": [
       "<div>\n",
       "<style scoped>\n",
       "    .dataframe tbody tr th:only-of-type {\n",
       "        vertical-align: middle;\n",
       "    }\n",
       "\n",
       "    .dataframe tbody tr th {\n",
       "        vertical-align: top;\n",
       "    }\n",
       "\n",
       "    .dataframe thead th {\n",
       "        text-align: right;\n",
       "    }\n",
       "</style>\n",
       "<table border=\"1\" class=\"dataframe\">\n",
       "  <thead>\n",
       "    <tr style=\"text-align: right;\">\n",
       "      <th></th>\n",
       "      <th>timestamp</th>\n",
       "      <th>id</th>\n",
       "      <th>group</th>\n",
       "      <th>action</th>\n",
       "      <th>duration</th>\n",
       "    </tr>\n",
       "  </thead>\n",
       "  <tbody>\n",
       "    <tr>\n",
       "      <th>0</th>\n",
       "      <td>2016-09-24 17:14:52.012145</td>\n",
       "      <td>261869</td>\n",
       "      <td>experiment</td>\n",
       "      <td>view</td>\n",
       "      <td>130.545004</td>\n",
       "    </tr>\n",
       "    <tr>\n",
       "      <th>1</th>\n",
       "      <td>2016-09-24 18:45:09.645857</td>\n",
       "      <td>226546</td>\n",
       "      <td>experiment</td>\n",
       "      <td>view</td>\n",
       "      <td>159.862440</td>\n",
       "    </tr>\n",
       "    <tr>\n",
       "      <th>2</th>\n",
       "      <td>2016-09-24 19:16:21.002533</td>\n",
       "      <td>286353</td>\n",
       "      <td>experiment</td>\n",
       "      <td>view</td>\n",
       "      <td>79.349315</td>\n",
       "    </tr>\n",
       "    <tr>\n",
       "      <th>3</th>\n",
       "      <td>2016-09-24 19:43:06.927785</td>\n",
       "      <td>842279</td>\n",
       "      <td>experiment</td>\n",
       "      <td>view</td>\n",
       "      <td>55.536126</td>\n",
       "    </tr>\n",
       "    <tr>\n",
       "      <th>4</th>\n",
       "      <td>2016-09-24 21:08:22.790333</td>\n",
       "      <td>781883</td>\n",
       "      <td>experiment</td>\n",
       "      <td>view</td>\n",
       "      <td>204.322437</td>\n",
       "    </tr>\n",
       "    <tr>\n",
       "      <th>...</th>\n",
       "      <td>...</td>\n",
       "      <td>...</td>\n",
       "      <td>...</td>\n",
       "      <td>...</td>\n",
       "      <td>...</td>\n",
       "    </tr>\n",
       "    <tr>\n",
       "      <th>4069</th>\n",
       "      <td>2017-01-18 09:39:08.046251</td>\n",
       "      <td>931490</td>\n",
       "      <td>control</td>\n",
       "      <td>view</td>\n",
       "      <td>58.846204</td>\n",
       "    </tr>\n",
       "    <tr>\n",
       "      <th>4070</th>\n",
       "      <td>2017-01-18 09:44:15.239671</td>\n",
       "      <td>410222</td>\n",
       "      <td>experiment</td>\n",
       "      <td>enroll</td>\n",
       "      <td>101.231821</td>\n",
       "    </tr>\n",
       "    <tr>\n",
       "      <th>4071</th>\n",
       "      <td>2017-01-18 09:56:26.948171</td>\n",
       "      <td>364458</td>\n",
       "      <td>control</td>\n",
       "      <td>view</td>\n",
       "      <td>293.490566</td>\n",
       "    </tr>\n",
       "    <tr>\n",
       "      <th>4072</th>\n",
       "      <td>2017-01-18 10:10:18.293253</td>\n",
       "      <td>443603</td>\n",
       "      <td>experiment</td>\n",
       "      <td>view</td>\n",
       "      <td>149.026959</td>\n",
       "    </tr>\n",
       "    <tr>\n",
       "      <th>4073</th>\n",
       "      <td>2017-01-18 10:38:20.939958</td>\n",
       "      <td>540111</td>\n",
       "      <td>experiment</td>\n",
       "      <td>view</td>\n",
       "      <td>62.039341</td>\n",
       "    </tr>\n",
       "  </tbody>\n",
       "</table>\n",
       "<p>4074 rows × 5 columns</p>\n",
       "</div>"
      ],
      "text/plain": [
       "                       timestamp      id       group  action    duration\n",
       "0     2016-09-24 17:14:52.012145  261869  experiment    view  130.545004\n",
       "1     2016-09-24 18:45:09.645857  226546  experiment    view  159.862440\n",
       "2     2016-09-24 19:16:21.002533  286353  experiment    view   79.349315\n",
       "3     2016-09-24 19:43:06.927785  842279  experiment    view   55.536126\n",
       "4     2016-09-24 21:08:22.790333  781883  experiment    view  204.322437\n",
       "...                          ...     ...         ...     ...         ...\n",
       "4069  2017-01-18 09:39:08.046251  931490     control    view   58.846204\n",
       "4070  2017-01-18 09:44:15.239671  410222  experiment  enroll  101.231821\n",
       "4071  2017-01-18 09:56:26.948171  364458     control    view  293.490566\n",
       "4072  2017-01-18 10:10:18.293253  443603  experiment    view  149.026959\n",
       "4073  2017-01-18 10:38:20.939958  540111  experiment    view   62.039341\n",
       "\n",
       "[4074 rows x 5 columns]"
      ]
     },
     "execution_count": 9,
     "metadata": {},
     "output_type": "execute_result"
    }
   ],
   "source": [
    "df = pd.read_csv(\"data/course_page_actions.csv\")\n",
    "df"
   ]
  },
  {
   "cell_type": "code",
   "execution_count": 11,
   "metadata": {},
   "outputs": [
    {
     "data": {
      "text/html": [
       "<div>\n",
       "<style scoped>\n",
       "    .dataframe tbody tr th:only-of-type {\n",
       "        vertical-align: middle;\n",
       "    }\n",
       "\n",
       "    .dataframe tbody tr th {\n",
       "        vertical-align: top;\n",
       "    }\n",
       "\n",
       "    .dataframe thead th {\n",
       "        text-align: right;\n",
       "    }\n",
       "</style>\n",
       "<table border=\"1\" class=\"dataframe\">\n",
       "  <thead>\n",
       "    <tr style=\"text-align: right;\">\n",
       "      <th></th>\n",
       "      <th>timestamp</th>\n",
       "      <th>id</th>\n",
       "      <th>group</th>\n",
       "      <th>action</th>\n",
       "      <th>duration</th>\n",
       "    </tr>\n",
       "  </thead>\n",
       "  <tbody>\n",
       "    <tr>\n",
       "      <th>0</th>\n",
       "      <td>2016-09-24 17:14:52.012145</td>\n",
       "      <td>261869</td>\n",
       "      <td>experiment</td>\n",
       "      <td>view</td>\n",
       "      <td>130.545004</td>\n",
       "    </tr>\n",
       "    <tr>\n",
       "      <th>1</th>\n",
       "      <td>2016-09-24 18:45:09.645857</td>\n",
       "      <td>226546</td>\n",
       "      <td>experiment</td>\n",
       "      <td>view</td>\n",
       "      <td>159.862440</td>\n",
       "    </tr>\n",
       "    <tr>\n",
       "      <th>2</th>\n",
       "      <td>2016-09-24 19:16:21.002533</td>\n",
       "      <td>286353</td>\n",
       "      <td>experiment</td>\n",
       "      <td>view</td>\n",
       "      <td>79.349315</td>\n",
       "    </tr>\n",
       "    <tr>\n",
       "      <th>3</th>\n",
       "      <td>2016-09-24 19:43:06.927785</td>\n",
       "      <td>842279</td>\n",
       "      <td>experiment</td>\n",
       "      <td>view</td>\n",
       "      <td>55.536126</td>\n",
       "    </tr>\n",
       "    <tr>\n",
       "      <th>4</th>\n",
       "      <td>2016-09-24 21:08:22.790333</td>\n",
       "      <td>781883</td>\n",
       "      <td>experiment</td>\n",
       "      <td>view</td>\n",
       "      <td>204.322437</td>\n",
       "    </tr>\n",
       "    <tr>\n",
       "      <th>...</th>\n",
       "      <td>...</td>\n",
       "      <td>...</td>\n",
       "      <td>...</td>\n",
       "      <td>...</td>\n",
       "      <td>...</td>\n",
       "    </tr>\n",
       "    <tr>\n",
       "      <th>4067</th>\n",
       "      <td>2017-01-18 08:35:44.813986</td>\n",
       "      <td>313521</td>\n",
       "      <td>control</td>\n",
       "      <td>view</td>\n",
       "      <td>131.677707</td>\n",
       "    </tr>\n",
       "    <tr>\n",
       "      <th>4069</th>\n",
       "      <td>2017-01-18 09:39:08.046251</td>\n",
       "      <td>931490</td>\n",
       "      <td>control</td>\n",
       "      <td>view</td>\n",
       "      <td>58.846204</td>\n",
       "    </tr>\n",
       "    <tr>\n",
       "      <th>4071</th>\n",
       "      <td>2017-01-18 09:56:26.948171</td>\n",
       "      <td>364458</td>\n",
       "      <td>control</td>\n",
       "      <td>view</td>\n",
       "      <td>293.490566</td>\n",
       "    </tr>\n",
       "    <tr>\n",
       "      <th>4072</th>\n",
       "      <td>2017-01-18 10:10:18.293253</td>\n",
       "      <td>443603</td>\n",
       "      <td>experiment</td>\n",
       "      <td>view</td>\n",
       "      <td>149.026959</td>\n",
       "    </tr>\n",
       "    <tr>\n",
       "      <th>4073</th>\n",
       "      <td>2017-01-18 10:38:20.939958</td>\n",
       "      <td>540111</td>\n",
       "      <td>experiment</td>\n",
       "      <td>view</td>\n",
       "      <td>62.039341</td>\n",
       "    </tr>\n",
       "  </tbody>\n",
       "</table>\n",
       "<p>3260 rows × 5 columns</p>\n",
       "</div>"
      ],
      "text/plain": [
       "                       timestamp      id       group action    duration\n",
       "0     2016-09-24 17:14:52.012145  261869  experiment   view  130.545004\n",
       "1     2016-09-24 18:45:09.645857  226546  experiment   view  159.862440\n",
       "2     2016-09-24 19:16:21.002533  286353  experiment   view   79.349315\n",
       "3     2016-09-24 19:43:06.927785  842279  experiment   view   55.536126\n",
       "4     2016-09-24 21:08:22.790333  781883  experiment   view  204.322437\n",
       "...                          ...     ...         ...    ...         ...\n",
       "4067  2017-01-18 08:35:44.813986  313521     control   view  131.677707\n",
       "4069  2017-01-18 09:39:08.046251  931490     control   view   58.846204\n",
       "4071  2017-01-18 09:56:26.948171  364458     control   view  293.490566\n",
       "4072  2017-01-18 10:10:18.293253  443603  experiment   view  149.026959\n",
       "4073  2017-01-18 10:38:20.939958  540111  experiment   view   62.039341\n",
       "\n",
       "[3260 rows x 5 columns]"
      ]
     },
     "execution_count": 11,
     "metadata": {},
     "output_type": "execute_result"
    }
   ],
   "source": [
    "views = df.query('action == \"view\"')\n",
    "views"
   ]
  },
  {
   "cell_type": "code",
   "execution_count": 6,
   "metadata": {},
   "outputs": [
    {
     "data": {
      "text/html": [
       "<div>\n",
       "<style scoped>\n",
       "    .dataframe tbody tr th:only-of-type {\n",
       "        vertical-align: middle;\n",
       "    }\n",
       "\n",
       "    .dataframe tbody tr th {\n",
       "        vertical-align: top;\n",
       "    }\n",
       "\n",
       "    .dataframe thead th {\n",
       "        text-align: right;\n",
       "    }\n",
       "</style>\n",
       "<table border=\"1\" class=\"dataframe\">\n",
       "  <thead>\n",
       "    <tr style=\"text-align: right;\">\n",
       "      <th></th>\n",
       "      <th>id</th>\n",
       "      <th>group</th>\n",
       "      <th>duration</th>\n",
       "    </tr>\n",
       "  </thead>\n",
       "  <tbody>\n",
       "    <tr>\n",
       "      <th>0</th>\n",
       "      <td>183260</td>\n",
       "      <td>control</td>\n",
       "      <td>107.331484</td>\n",
       "    </tr>\n",
       "    <tr>\n",
       "      <th>1</th>\n",
       "      <td>183615</td>\n",
       "      <td>experiment</td>\n",
       "      <td>24.627594</td>\n",
       "    </tr>\n",
       "    <tr>\n",
       "      <th>2</th>\n",
       "      <td>184277</td>\n",
       "      <td>experiment</td>\n",
       "      <td>193.212489</td>\n",
       "    </tr>\n",
       "    <tr>\n",
       "      <th>3</th>\n",
       "      <td>184360</td>\n",
       "      <td>experiment</td>\n",
       "      <td>226.586283</td>\n",
       "    </tr>\n",
       "    <tr>\n",
       "      <th>4</th>\n",
       "      <td>184589</td>\n",
       "      <td>experiment</td>\n",
       "      <td>12.052097</td>\n",
       "    </tr>\n",
       "  </tbody>\n",
       "</table>\n",
       "</div>"
      ],
      "text/plain": [
       "       id       group    duration\n",
       "0  183260     control  107.331484\n",
       "1  183615  experiment   24.627594\n",
       "2  184277  experiment  193.212489\n",
       "3  184360  experiment  226.586283\n",
       "4  184589  experiment   12.052097"
      ]
     },
     "execution_count": 6,
     "metadata": {},
     "output_type": "execute_result"
    }
   ],
   "source": [
    "reading_times = views.groupby([\"id\", \"group\"]).mean()\n",
    "reading_times = reading_times.reset_index()\n",
    "reading_times.head()"
   ]
  },
  {
   "cell_type": "code",
   "execution_count": 12,
   "metadata": {},
   "outputs": [
    {
     "data": {
      "text/plain": [
       "(115.38637100678429, 131.3208410471793)"
      ]
     },
     "execution_count": 12,
     "metadata": {},
     "output_type": "execute_result"
    }
   ],
   "source": [
    "# Get dataframe with all records from control group\n",
    "control_df = reading_times.query('group == \"control\"').duration.mean()\n",
    "# Get dataframe with all records from experiment group\n",
    "experiment_df = reading_times.query('group == \"experiment\"').duration.mean()\n",
    "# Printing.\n",
    "control_df, experiment_df"
   ]
  },
  {
   "cell_type": "code",
   "execution_count": 13,
   "metadata": {},
   "outputs": [
    {
     "data": {
      "text/plain": [
       "15.934470040395013"
      ]
     },
     "execution_count": 13,
     "metadata": {},
     "output_type": "execute_result"
    }
   ],
   "source": [
    "obs_diff = experiment_df - control_df\n",
    "obs_diff"
   ]
  },
  {
   "cell_type": "markdown",
   "metadata": {},
   "source": [
    "The experiment group spend 15 more seconds on the course overview."
   ]
  },
  {
   "cell_type": "code",
   "execution_count": 14,
   "metadata": {},
   "outputs": [],
   "source": [
    "# Create sampling distribution for difference in completion rates\n",
    "# with boostrapping\n",
    "diffs = []\n",
    "for _ in range(10000):\n",
    "    sample = df.sample(df.shape[0], replace=True)\n",
    "    sample_control_df = sample.query('group == \"control\"')\n",
    "    sample_control_ctr = sample_control_df.query('group == \"control\"').duration.mean()\n",
    "    sample_experiment_df = sample.query('group == \"experiment\"')\n",
    "    sample_experiment_ctr = sample_experiment_df.query(\n",
    "        'group == \"experiment\"'\n",
    "    ).duration.mean()\n",
    "    sample_obs_diff = sample_experiment_ctr - sample_control_ctr\n",
    "    diffs.append(sample_obs_diff)"
   ]
  },
  {
   "cell_type": "code",
   "execution_count": 15,
   "metadata": {},
   "outputs": [],
   "source": [
    "# convert to numpy array\n",
    "diffs = np.array(diffs)"
   ]
  },
  {
   "cell_type": "code",
   "execution_count": 16,
   "metadata": {},
   "outputs": [
    {
     "data": {
      "text/plain": [
       "<Figure size 1008x432 with 0 Axes>"
      ]
     },
     "metadata": {},
     "output_type": "display_data"
    },
    {
     "data": {
      "image/png": "[encoded data removed]",
      "text/plain": [
       "<Figure size 360x360 with 1 Axes>"
      ]
     },
     "metadata": {
      "needs_background": "light"
     },
     "output_type": "display_data"
    }
   ],
   "source": [
    "# plot distribution\n",
    "# Plot sampling distribution\n",
    "plt.figure(figsize=[14, 6])\n",
    "sns.displot(diffs)\n",
    "plt.title(\"CRT Difference Histogram\", fontsize=20)\n",
    "plt.xlabel(\"CRT Difference\", fontsize=14)\n",
    "plt.ylabel(\"Frequency\", fontsize=14)\n",
    "plt.show()"
   ]
  },
  {
   "cell_type": "code",
   "execution_count": 17,
   "metadata": {},
   "outputs": [],
   "source": [
    "# create distribution under the null hypothesis\n",
    "null_vals = np.random.normal(0, np.std(diffs), size=10000);"
   ]
  },
  {
   "cell_type": "code",
   "execution_count": 18,
   "metadata": {},
   "outputs": [
    {
     "data": {
      "text/plain": [
       "<Figure size 1008x432 with 0 Axes>"
      ]
     },
     "metadata": {},
     "output_type": "display_data"
    },
    {
     "data": {
      "image/png": "[encoded data removed]",
      "text/plain": [
       "<Figure size 360x360 with 1 Axes>"
      ]
     },
     "metadata": {
      "needs_background": "light"
     },
     "output_type": "display_data"
    }
   ],
   "source": [
    "# plot null distribution\n",
    "plt.figure(figsize=[14, 6])\n",
    "sns.displot(null_vals, color=\"orange\")\n",
    "plt.title(\"Null Hypothesis Histogram\", fontsize=20)\n",
    "plt.xlabel(\"CRT Difference\", fontsize=14)\n",
    "plt.ylabel(\"Frequency\", fontsize=14)\n",
    "plt.axvline(obs_diff, color=\"red\")\n",
    "plt.show()"
   ]
  },
  {
   "cell_type": "code",
   "execution_count": 24,
   "metadata": {},
   "outputs": [
    {
     "data": {
      "text/plain": [
       "<Figure size 1008x432 with 0 Axes>"
      ]
     },
     "metadata": {},
     "output_type": "display_data"
    },
    {
     "data": {
      "image/png": "[encoded data removed]",
      "text/plain": [
       "<Figure size 402.375x360 with 1 Axes>"
      ]
     },
     "metadata": {
      "needs_background": "light"
     },
     "output_type": "display_data"
    }
   ],
   "source": [
    "# Plot observed statistic with the null distibution\n",
    "plt.figure(figsize=[14, 6])\n",
    "sns.displot([diffs, null_vals], color=[\"r\", \"b\"])\n",
    "plt.title(\"Histogram Comparison\", fontsize=20)\n",
    "plt.xlabel(\"CRT Difference\", fontsize=14)\n",
    "plt.ylabel(\"Frequency\", fontsize=14)\n",
    "plt.axvline(obs_diff, color=\"red\")\n",
    "plt.show()"
   ]
  },
  {
   "cell_type": "code",
   "execution_count": 23,
   "metadata": {},
   "outputs": [
    {
     "data": {
      "text/plain": [
       "0.0"
      ]
     },
     "execution_count": 23,
     "metadata": {},
     "output_type": "execute_result"
    }
   ],
   "source": [
    "# Compute p-value\n",
    "p_value = (null_vals > obs_diff).mean()\n",
    "# Printting the p_value\n",
    "p_value"
   ]
  },
  {
   "cell_type": "markdown",
   "metadata": {},
   "source": [
    ">**Conclusion:** Reject the $H_0$ because p_value < $\\alpha$"
   ]
  }
 ],
 "metadata": {
  "kernelspec": {
   "display_name": "Python 3 (ipykernel)",
   "language": "python",
   "name": "python3"
  },
  "language_info": {
   "codemirror_mode": {
    "name": "ipython",
    "version": 3
   },
   "file_extension": ".py",
   "mimetype": "text/x-python",
   "name": "python",
   "nbconvert_exporter": "python",
   "pygments_lexer": "ipython3",
   "version": "3.7.10"
  },
  "varInspector": {
   "cols": {
    "lenName": 16,
    "lenType": 16,
    "lenVar": 40
   },
   "kernels_config": {
    "python": {
     "delete_cmd_postfix": "",
     "delete_cmd_prefix": "del ",
     "library": "var_list.py",
     "varRefreshCmd": "print(var_dic_list())"
    },
    "r": {
     "delete_cmd_postfix": ") ",
     "delete_cmd_prefix": "rm(",
     "library": "var_list.r",
     "varRefreshCmd": "cat(var_dic_list()) "
    }
   },
   "types_to_exclude": [
    "module",
    "function",
    "builtin_function_or_method",
    "instance",
    "_Feature"
   ],
   "window_display": false
  }
 },
 "nbformat": 4,
 "nbformat_minor": 2
}
