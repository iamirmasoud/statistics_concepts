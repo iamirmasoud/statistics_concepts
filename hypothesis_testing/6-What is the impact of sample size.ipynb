{
 "cells": [
  {
   "cell_type": "markdown",
   "metadata": {},
   "source": [
    "### The Impact of Large Sample Sizes\n",
    "\n",
    "When we increase our sample size, even the smallest of differences may seem significant.  \n",
    "\n",
    "To illustrate this point, work through this notebook."
   ]
  },
  {
   "cell_type": "code",
   "execution_count": 1,
   "metadata": {},
   "outputs": [],
   "source": [
    "import pandas as pd\n",
    "import numpy as np\n",
    "import matplotlib.pyplot as plt\n",
    "\n",
    "%matplotlib inline\n",
    "np.random.seed(42)\n",
    "full_data = pd.read_csv(\"./data/coffee_dataset.csv\")"
   ]
  },
  {
   "cell_type": "markdown",
   "metadata": {},
   "source": [
    "`1.` In this case imagine, we are interested in testing if the mean height of all individuals in the `full_data` is equal to 67.60 inches.  First, use **quiz 1** below to identify the null and alternative hypotheses for these cases. "
   ]
  },
  {
   "cell_type": "markdown",
   "metadata": {},
   "source": [
    "$$H_0: \\mu = 67.60$$\n",
    "\n",
    "$$H_1: \\mu \\neq 67.60$$\n"
   ]
  },
  {
   "cell_type": "markdown",
   "metadata": {},
   "source": [
    "`2.` What is the population mean?  Create a sample set of data using the below code.  What is the sample mean?  What is the standard deviation of the population?  What is the standard deviation of the sampling distribution of the mean of five draws? Simulate the sampling distribution for the mean of five values to see the shape and plot a histogram. Use **quiz 2** below to assure your answers are correct.  "
   ]
  },
  {
   "cell_type": "code",
   "execution_count": 2,
   "metadata": {},
   "outputs": [],
   "source": [
    "sample1 = full_data.sample(5)"
   ]
  },
  {
   "cell_type": "code",
   "execution_count": 3,
   "metadata": {},
   "outputs": [
    {
     "data": {
      "text/plain": [
       "67.59748697307934"
      ]
     },
     "execution_count": 3,
     "metadata": {},
     "output_type": "execute_result"
    }
   ],
   "source": [
    "full_data.height.mean()  # Population mean"
   ]
  },
  {
   "cell_type": "code",
   "execution_count": 4,
   "metadata": {},
   "outputs": [
    {
     "data": {
      "text/plain": [
       "67.88234252049084"
      ]
     },
     "execution_count": 4,
     "metadata": {},
     "output_type": "execute_result"
    }
   ],
   "source": [
    "sample1.height.mean()  # Sample mean"
   ]
  },
  {
   "cell_type": "code",
   "execution_count": 5,
   "metadata": {},
   "outputs": [
    {
     "data": {
      "image/png": "[encoded data removed]",
      "text/plain": [
       "<Figure size 432x288 with 1 Axes>"
      ]
     },
     "metadata": {
      "needs_background": "light"
     },
     "output_type": "display_data"
    }
   ],
   "source": [
    "sampling_dist_mean5 = []\n",
    "\n",
    "for _ in range(10000):\n",
    "    sample1 = full_data.sample(5)\n",
    "    sample_mean = sample1.height.mean()\n",
    "    sampling_dist_mean5.append(sample_mean)\n",
    "\n",
    "plt.hist(sampling_dist_mean5);"
   ]
  },
  {
   "cell_type": "code",
   "execution_count": 6,
   "metadata": {},
   "outputs": [],
   "source": [
    "std_sampling_dist = np.std(\n",
    "    sampling_dist_mean5\n",
    ")  # the standard deviation of the sampling distribution"
   ]
  },
  {
   "cell_type": "markdown",
   "metadata": {},
   "source": [
    "`3.` Using your null and alternative as set up in question 1 and the results of your sampling distribution in question 2, simulate values of the mean values that you would expect from the null hypothesis.  Use these simulated values to determine a p-value to make a decision about your null and alternative hypotheses.  Check your solution using **quiz 3** and **quiz 4** below.\n",
    "\n",
    "**Hint:** Use the numpy documentation [here](https://docs.scipy.org/doc/numpy-1.13.0/reference/generated/numpy.random.normal.html) to assist with your solution."
   ]
  },
  {
   "cell_type": "code",
   "execution_count": 7,
   "metadata": {},
   "outputs": [
    {
     "data": {
      "text/plain": [
       "<matplotlib.lines.Line2D at 0x7f810c399810>"
      ]
     },
     "execution_count": 7,
     "metadata": {},
     "output_type": "execute_result"
    },
    {
     "data": {
      "image/png": "[encoded data removed]",
      "text/plain": [
       "<Figure size 432x288 with 1 Axes>"
      ]
     },
     "metadata": {
      "needs_background": "light"
     },
     "output_type": "display_data"
    }
   ],
   "source": [
    "null_mean = 67.60\n",
    "\n",
    "means = []\n",
    "for _ in range(10000):\n",
    "    means.append(sample1)\n",
    "\n",
    "null_vals = np.random.normal(null_mean, std_sampling_dist, 10000)\n",
    "\n",
    "plt.hist(null_vals)\n",
    "# where our sample mean falls on null dist\n",
    "plt.axvline(x=sample1.height.mean(), color=\"red\")"
   ]
  },
  {
   "cell_type": "code",
   "execution_count": 8,
   "metadata": {},
   "outputs": [
    {
     "data": {
      "text/plain": [
       "0.6154"
      ]
     },
     "execution_count": 8,
     "metadata": {},
     "output_type": "execute_result"
    }
   ],
   "source": [
    "# for a two sided hypothesis, we want to look at anything\n",
    "# more extreme from the null in both directions\n",
    "obs_mean = sample1.height.mean()\n",
    "\n",
    "# probability of a statistic lower than observed\n",
    "prob_more_extreme_low = (null_vals < obs_mean).mean()\n",
    "\n",
    "# probability a statistic is more extreme higher\n",
    "prob_more_extreme_high = (null_mean + (null_mean - obs_mean) < null_vals).mean()\n",
    "\n",
    "pval = prob_more_extreme_low + prob_more_extreme_high\n",
    "pval"
   ]
  },
  {
   "cell_type": "markdown",
   "metadata": {},
   "source": [
    "** The above is a second possible method for obtaining the p-value.  These are pretty different, stability of these values with such a small sample size is an issue. We are essentially shading outside the lines below.**"
   ]
  },
  {
   "cell_type": "code",
   "execution_count": 9,
   "metadata": {},
   "outputs": [
    {
     "data": {
      "text/plain": [
       "<matplotlib.lines.Line2D at 0x7f80bc0e3950>"
      ]
     },
     "execution_count": 9,
     "metadata": {},
     "output_type": "execute_result"
    },
    {
     "data": {
      "image/png": "[encoded data removed]",
      "text/plain": [
       "<Figure size 432x288 with 1 Axes>"
      ]
     },
     "metadata": {
      "needs_background": "light"
     },
     "output_type": "display_data"
    }
   ],
   "source": [
    "lower_bound = obs_mean\n",
    "upper_bound = null_mean + (null_mean - obs_mean)\n",
    "\n",
    "plt.hist(null_vals)\n",
    "# where our sample mean falls on null dist\n",
    "plt.axvline(x=lower_bound, color=\"red\")\n",
    "# where our sample mean falls on null dist\n",
    "plt.axvline(x=upper_bound, color=\"red\")"
   ]
  },
  {
   "cell_type": "markdown",
   "metadata": {},
   "source": [
    "`4.` Now imagine if you received the same sample mean as you calculated from the sample in question 1 above, but that you actually retrieved it from a sample of 300.  What would the new standard deviation be for your sampling distribution for the mean of 300 values?  Additionally, what would your new p-value be for choosing between the null and alternative hypotheses you set up? Simulate the sampling distribution for the mean of five values to see the shape and plot a histogram.  Use your solutions here to answer the second to last quiz question below.\n",
    "\n",
    "**Hint:**  If you get stuck, notice you can use the solution from quiz regarding finding the p-value earlier to assist with obtaining this answer with just a few small changes."
   ]
  },
  {
   "cell_type": "code",
   "execution_count": 10,
   "metadata": {},
   "outputs": [
    {
     "data": {
      "text/plain": [
       "<matplotlib.lines.Line2D at 0x7f80bc045910>"
      ]
     },
     "execution_count": 10,
     "metadata": {},
     "output_type": "execute_result"
    },
    {
     "data": {
      "image/png": "[encoded data removed]",
      "text/plain": [
       "<Figure size 432x288 with 1 Axes>"
      ]
     },
     "metadata": {
      "needs_background": "light"
     },
     "output_type": "display_data"
    }
   ],
   "source": [
    "sampling_dist_mean1000 = []\n",
    "\n",
    "for _ in range(10000):\n",
    "    sample1 = full_data.sample(1000)\n",
    "    sample_mean = sample1.height.mean()\n",
    "    sampling_dist_mean1000.append(sample_mean)\n",
    "\n",
    "std_sampling_dist1000 = np.std(sampling_dist_mean1000)\n",
    "null_vals = np.random.normal(null_mean, std_sampling_dist1000, 10000)\n",
    "\n",
    "plt.hist(null_vals)\n",
    "# where our sample mean falls on null dist\n",
    "plt.axvline(x=lower_bound, color=\"red\")\n",
    "# where our sample mean falls on null dist\n",
    "plt.axvline(x=upper_bound, color=\"red\")"
   ]
  },
  {
   "cell_type": "code",
   "execution_count": 11,
   "metadata": {},
   "outputs": [
    {
     "data": {
      "text/plain": [
       "0.0"
      ]
     },
     "execution_count": 11,
     "metadata": {},
     "output_type": "execute_result"
    }
   ],
   "source": [
    "# for a two sided hypothesis, we want to look at anything\n",
    "# more extreme from the null in both directions\n",
    "\n",
    "# probability of a statistic lower than observed\n",
    "prob_more_extreme_low = (null_vals < lower_bound).mean()\n",
    "\n",
    "# probability a statistic is more extreme higher\n",
    "prob_more_extreme_high = (upper_bound < null_vals).mean()\n",
    "\n",
    "pval = prob_more_extreme_low + prob_more_extreme_high\n",
    "pval  # With such a large sample size, our sample mean that is super close is still significant\n",
    "# when the sample size is large"
   ]
  },
  {
   "cell_type": "markdown",
   "metadata": {},
   "source": [
    "`5.` Reflect on what happened by answering the final quiz in this concept."
   ]
  },
  {
   "cell_type": "markdown",
   "metadata": {},
   "source": [
    "**Even with the smallest differences between a sample mean and a hypothesized population mean are significant when we have large sample sizes.**"
   ]
  },
  {
   "cell_type": "code",
   "execution_count": null,
   "metadata": {
    "collapsed": true
   },
   "outputs": [],
   "source": []
  }
 ],
 "metadata": {
  "kernelspec": {
   "display_name": "Python 3 (ipykernel)",
   "language": "python",
   "name": "python3"
  },
  "language_info": {
   "codemirror_mode": {
    "name": "ipython",
    "version": 3
   },
   "file_extension": ".py",
   "mimetype": "text/x-python",
   "name": "python",
   "nbconvert_exporter": "python",
   "pygments_lexer": "ipython3",
   "version": "3.7.10"
  },
  "varInspector": {
   "cols": {
    "lenName": 16,
    "lenType": 16,
    "lenVar": 40
   },
   "kernels_config": {
    "python": {
     "delete_cmd_postfix": "",
     "delete_cmd_prefix": "del ",
     "library": "var_list.py",
     "varRefreshCmd": "print(var_dic_list())"
    },
    "r": {
     "delete_cmd_postfix": ") ",
     "delete_cmd_prefix": "rm(",
     "library": "var_list.r",
     "varRefreshCmd": "cat(var_dic_list()) "
    }
   },
   "types_to_exclude": [
    "module",
    "function",
    "builtin_function_or_method",
    "instance",
    "_Feature"
   ],
   "window_display": false
  }
 },
 "nbformat": 4,
 "nbformat_minor": 2
}
