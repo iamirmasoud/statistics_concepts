{
 "cells": [
  {
   "cell_type": "code",
   "execution_count": 5,
   "metadata": {},
   "outputs": [],
   "source": [
    "import pandas as pd\n",
    "import numpy as np\n",
    "import matplotlib.pyplot as plt\n",
    "\n",
    "%matplotlib inline\n",
    "np.random.seed(42)\n",
    "\n",
    "coffee_full = pd.read_csv(\"data/coffee_dataset.csv\")\n",
    "coffee_red = coffee_full.sample(200)"
   ]
  },
  {
   "cell_type": "code",
   "execution_count": 6,
   "metadata": {},
   "outputs": [
    {
     "data": {
      "text/plain": [
       "(0.3965686790908766, 2.2432588681124224)"
      ]
     },
     "execution_count": 6,
     "metadata": {},
     "output_type": "execute_result"
    }
   ],
   "source": [
    "# Bootsrap Method\n",
    "diff = []\n",
    "\n",
    "for _ in range(10000):\n",
    "    bootsample = coffee_red.sample(200, replace=True)\n",
    "    mean_coff = bootsample[bootsample[\"drinks_coffee\"] == True][\"height\"].mean()\n",
    "    mean_nocoff = bootsample[bootsample[\"drinks_coffee\"] == False][\"height\"].mean()\n",
    "    diff.append(mean_coff - mean_nocoff)\n",
    "\n",
    "np.percentile(diff, 2.5), np.percentile(diff, 97.5)"
   ]
  },
  {
   "cell_type": "code",
   "execution_count": 7,
   "metadata": {},
   "outputs": [
    {
     "data": {
      "text/plain": [
       "(0.3960010615918562, 2.2734131570228913)"
      ]
     },
     "execution_count": 7,
     "metadata": {},
     "output_type": "execute_result"
    }
   ],
   "source": [
    "import statsmodels.stats.api as sms\n",
    "\n",
    "X1 = coffee_red[coffee_red[\"drinks_coffee\"] == True][\"height\"]\n",
    "X2 = coffee_red[coffee_red[\"drinks_coffee\"] == False][\"height\"]\n",
    "\n",
    "cm = sms.CompareMeans(sms.DescrStatsW(X1), sms.DescrStatsW(X2))\n",
    "cm.tconfint_diff(usevar=\"unequal\")"
   ]
  },
  {
   "cell_type": "code",
   "execution_count": 8,
   "metadata": {},
   "outputs": [
    {
     "data": {
      "text/plain": [
       "1.7964060674083555"
      ]
     },
     "execution_count": 8,
     "metadata": {},
     "output_type": "execute_result"
    }
   ],
   "source": [
    "mean_coff - mean_nocoff"
   ]
  }
 ],
 "metadata": {
  "kernelspec": {
   "display_name": "Python 3 (ipykernel)",
   "language": "python",
   "name": "python3"
  },
  "language_info": {
   "codemirror_mode": {
    "name": "ipython",
    "version": 3
   },
   "file_extension": ".py",
   "mimetype": "text/x-python",
   "name": "python",
   "nbconvert_exporter": "python",
   "pygments_lexer": "ipython3",
   "version": "3.7.10"
  },
  "varInspector": {
   "cols": {
    "lenName": 16,
    "lenType": 16,
    "lenVar": 40
   },
   "kernels_config": {
    "python": {
     "delete_cmd_postfix": "",
     "delete_cmd_prefix": "del ",
     "library": "var_list.py",
     "varRefreshCmd": "print(var_dic_list())"
    },
    "r": {
     "delete_cmd_postfix": ") ",
     "delete_cmd_prefix": "rm(",
     "library": "var_list.r",
     "varRefreshCmd": "cat(var_dic_list()) "
    }
   },
   "types_to_exclude": [
    "module",
    "function",
    "builtin_function_or_method",
    "instance",
    "_Feature"
   ],
   "window_display": false
  }
 },
 "nbformat": 4,
 "nbformat_minor": 1
}
